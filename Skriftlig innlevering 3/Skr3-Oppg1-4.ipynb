{
 "cells": [
  {
   "cell_type": "markdown",
   "id": "bbc752a0-3f69-4c23-a817-284bcf2574d4",
   "metadata": {},
   "source": [
    "# Skriftlig innlevering 3, Oppgave 1-4 (av 4)"
   ]
  },
  {
   "cell_type": "markdown",
   "id": "c39faec4-ee43-462e-b6e8-28e22d2c07ad",
   "metadata": {},
   "source": [
    "# Oppgave 1 *"
   ]
  },
  {
   "cell_type": "markdown",
   "id": "dfc9d8cf-eef2-4066-959a-cd6fc2c9684a",
   "metadata": {},
   "source": [
    "La $X$ være fødselsvekt i gram til et tilfeldig barn i Norge. Anta at $X$ er normalfordelt med \n",
    "forventningsverdi $\\mu=E[X]=3500$ og standardavvik $\\sigma = \\mbox{SD}[X]=570$."
   ]
  },
  {
   "cell_type": "markdown",
   "id": "8a807ae3-bec7-4e63-965a-7489e318ffa1",
   "metadata": {},
   "source": [
    "## Deloppgave a)"
   ]
  },
  {
   "cell_type": "markdown",
   "id": "f69c8882-01c7-4e93-b859-6ae41da80017",
   "metadata": {},
   "source": [
    "Finn sannsynlighetene\n",
    "    \n",
    "\\begin{align*}\n",
    "    P(X\\geq 3000),\\ \\ \\ \\ P(3200 \\leq X < 4000),\\ \\ \\ \\ P(X\\geq 3500|X\\geq 3000)\n",
    "    \\ \\ \\ \\ \\mbox{og}\\ \\ \\ \\ P(X\\leq 4000|X\\geq 3200).\n",
    "\\end{align*}"
   ]
  },
  {
   "cell_type": "markdown",
   "id": "06e5f78b-92b4-46f5-b1fa-7bbf6679a342",
   "metadata": {},
   "source": [
    "#### Her er deloppgave a) slutt."
   ]
  },
  {
   "cell_type": "markdown",
   "id": "be1975c4-336f-4cb8-b9ea-0228c407c981",
   "metadata": {},
   "source": [
    "Et barn blir klassifisert som undervektig dersom fødselsvekta er under $c$ gram, der $c$ velges slik at\n",
    "\n",
    "\\begin{align*}\n",
    "  P(X<c) = 0.01.\n",
    "\\end{align*}\n",
    "\n",
    "La $Y$ være antall av $n=100$ barn i Norge som var undervektige ved fødselen."
   ]
  },
  {
   "cell_type": "markdown",
   "id": "1a159317-8938-4545-ba4c-0d2a3827a2f2",
   "metadata": {},
   "source": [
    "## Deloppgave b)"
   ]
  },
  {
   "cell_type": "markdown",
   "id": "74178580-a723-4622-a8e5-a493d03f51ad",
   "metadata": {},
   "source": [
    "* Finn verdien til $c$.\n",
    "* Hvilke antagelser må du gjøre (i tillegg til de som er spesifisert over) for at $Y$ skal være\n",
    "    binomisk fordelt?\n",
    "* Forutsatt at $Y$ er binomisk fordelt, finn $P(Y\\geq 1)$ og $P(Y\\geq 2|Y\\geq 1)$."
   ]
  },
  {
   "cell_type": "markdown",
   "id": "3017329e-6482-4d0f-9f9f-a1bf9955368a",
   "metadata": {},
   "source": [
    "## Oppgave 2 *"
   ]
  },
  {
   "cell_type": "markdown",
   "id": "30934338-a723-4160-ac11-86e0a80d7ed0",
   "metadata": {},
   "source": [
    "En bedrift har kjøpt inn en ny kraftig datamaskin og vurderer behovet for vedlikeholdsarbeid på denne. De\n",
    "  regner med at feilene som vil oppstå er av to typer, feil som de kan utbedre selv (type A-feil) og feil\n",
    "  som krever assistanse fra merkeleverandør for å utbedre (type B-feil).\n",
    "  De antar at feil av type A kommer ifølge en\n",
    "  poissonprosess med intensitet $\\lambda_A$ (per døgn), og at feil av type B kommer ifølge en\n",
    "  poissonprosess med intensitet $\\lambda_B$ (per døgn). Dessuten antar de at feil av type A og type B\n",
    "  oppstår uavhengig av hverandre. La $X_A$ og $X_B$ våre henholdsvis antall feil som vil oppstå av\n",
    "  type A og av type B i løpet av et år (365 døgn)."
   ]
  },
  {
   "cell_type": "markdown",
   "id": "f04e86b5-80c3-449e-b7fd-576c6cdaef61",
   "metadata": {},
   "source": [
    "## Deloppgave a)"
   ]
  },
  {
   "cell_type": "markdown",
   "id": "0fe7864d-4f65-4827-a202-80e7cb0d6a5d",
   "metadata": {},
   "source": [
    "Dersom $\\lambda_A=\\frac{3}{73}=0.0411$ og $\\lambda_B=\\frac{1}{73}=0.0137$, finn\n",
    "\n",
    "\\begin{align*}\n",
    "    E[X_A],\\ \\ \\ \\ P(X_A\\leq 15),\\ \\ \\ \\ P(X_A\\leq 15,X_B\\leq 10)\\ \\ \\ \\\n",
    "        \\mbox{og}\\ \\ \\ \\ P(X_A\\leq 15|X_B\\leq 10).\n",
    "\\end{align*}"
   ]
  },
  {
   "cell_type": "markdown",
   "id": "a28ec4af-fedb-474b-93e2-e846da1bf59b",
   "metadata": {},
   "source": [
    "#### Her er deloppgave a) slutt."
   ]
  },
  {
   "cell_type": "markdown",
   "id": "a30f1ba8-8fd6-414e-b0af-289cfcd10e37",
   "metadata": {},
   "source": [
    "La $Z=X_A+X_B$ være totalt antall feil som oppstår i løpet av et år."
   ]
  },
  {
   "cell_type": "markdown",
   "id": "ac18abf8-855a-4f96-81d5-7e0d14198dc7",
   "metadata": {},
   "source": [
    "## Deloppgave b)"
   ]
  },
  {
   "cell_type": "markdown",
   "id": "c5b0d915-4149-42ae-beaa-7f02f4d3374f",
   "metadata": {},
   "source": [
    "Finn punktsannsynligheten til $Z$, $f_Z(z)=P(Z=z)$. <em>Hint: Bruk setningen om total sannsynlighet for\n",
    "      diskrete stokastiske variabler. Du kan også få bruk for binomialteoremet, se \n",
    "    https://en.wikipedia.org/wiki/Binomial_theorem</em>.\n",
    "\n",
    "Kan du gjenkjenne fordelingen til $Z$ som en fordeling vi har diskutert? "
   ]
  },
  {
   "cell_type": "markdown",
   "id": "fc4f8f7b-c207-4452-8371-f0c952abe217",
   "metadata": {},
   "source": [
    "## Deloppgave c)"
   ]
  },
  {
   "cell_type": "markdown",
   "id": "fd6cebbd-611d-4679-bf89-58bd95e69486",
   "metadata": {},
   "source": [
    "Finn den betingede fordelingen for antall feil av type $A$ i løpet av et år, gitt at totalt antall\n",
    "    feil i løpet av dette året var lik et gitt tall $z$, dvs finn et uttrykk for\n",
    "\\begin{align*}\n",
    "    f_{X_A|Z}(x_A|z) = P(X_A=x_A|Z=z).\n",
    "\\end{align*}\n",
    "\n",
    "Kan du gjenkjenne denne betingede fordelingen som en fordeling vi har diskutert?"
   ]
  },
  {
   "cell_type": "markdown",
   "id": "16066c5b-4e2e-48fe-92f5-0d3135c56dbb",
   "metadata": {},
   "source": [
    "## Oppgave 3"
   ]
  },
  {
   "cell_type": "markdown",
   "id": "6d95f733-edca-4082-b5b4-2d0de74348f9",
   "metadata": {},
   "source": [
    "La $X$ være normalfordelt med forventningsverdi $\\mu$ og varians lik $\\sigma^2$, \n",
    "og la $Z=aX+b$ for to konstanter $a$ og $b$."
   ]
  },
  {
   "cell_type": "markdown",
   "id": "3fb54ff2-c3b8-472c-8cf8-82290ca95706",
   "metadata": {},
   "source": [
    "## Deloppgave a)"
   ]
  },
  {
   "cell_type": "markdown",
   "id": "5b5316b5-81c6-4a01-a0d4-dbdb099790b1",
   "metadata": {},
   "source": [
    "Finn $E[Z]$ og $\\mbox{Var}[Z]$.\n",
    "\n",
    "Lag en pythonfunksjon som simulerer $n$ realisasjoner av $Z$ ved først å simulere $n$ realisasjoner av\n",
    "    $X$ ved hjelp av pythonfunksjonen <em>numpy.random.normal</em>, og deretter regner ut tilsvarende \n",
    "    verdier av $Z$. Funksjonen din skal ha fem input-parametre, $n$, $\\mu$, $\\sigma$,\n",
    "    $a$ og $b$. \n",
    "\n",
    "For $\\mu=1$, $\\sigma=2$ $a=2$ og $b=0.5$, benytt pythonfunksjonen din til å\n",
    "    generere $n=100\\ 000$ realisasjoner av $Z$. Lag et sannsynlighetshistogram\n",
    "    av disse $n$ verdiene og spesifiser at sannsynlighetshistogrammet skal ha $100$ intervaller (se eventuelt kode i oppgave 2 i skriftlig innlevering 2.\n",
    "    \n",
    "Plott så sannsynlighetstettheten til en normalfordeling med forventningsverdi lik $E[Z]$ og varians lik $\\mbox{Var}[Z]$ i samme plott som histogrammet. Observer (dersom du har gjort ting rett) at sannsynlighetstettheten sammenfaller meget godt med sannsynlighetshistogrammet, og konkluder dermed med at det kan se ut som om $Z$ er normalfordelt.\n",
    "\n",
    "Gjenta gjerne denne simuleringsprosedyren også for noen andre verdier av $\\mu$, $\\sigma$, $a$ og $b$ og observer at sannsynlighetshistogrammet også da sammenfaller med tilhørende sannsynlighetstetthet."
   ]
  },
  {
   "cell_type": "code",
   "execution_count": 15,
   "id": "0a0a4f6e-c943-47d3-ac72-8c68ec58c06d",
   "metadata": {},
   "outputs": [
    {
     "data": {
      "image/png": "[encoded data removed]",
      "text/plain": [
       "<Figure size 640x480 with 1 Axes>"
      ]
     },
     "metadata": {},
     "output_type": "display_data"
    }
   ],
   "source": [
    "# Her kan du skrive phytonkoden din\n",
    "import numpy as np\n",
    "import matplotlib.pyplot as plt\n",
    "\n",
    "n = 1000000\n",
    "mu, sigma = 1, 2\n",
    "a, b = 2, 0.5\n",
    "\n",
    "simX = np.random.normal(mu,sigma,n)\n",
    "\n",
    "simZ = a*simX+b\n",
    "\n",
    "z = np.linspace(-20,20,100)\n",
    "scalar = 4\n",
    "\n",
    "f_z = lambda z : scalar * (1/np.sqrt(2*np.pi)) * (1/(sigma**2 * a**2)) * np.exp(-(1/2)*(((z-(a*mu+b))**2)/(sigma**4)))\n",
    "\n",
    "plt.hist(simZ, density=True, bins = 100)\n",
    "plt.plot(z,f_z(z),color=\"red\")\n",
    "plt.show()\n",
    "\n"
   ]
  },
  {
   "cell_type": "markdown",
   "id": "6329d5a6-c722-43a3-a2ce-4298b00f6a86",
   "metadata": {},
   "source": [
    "## Deloppgave b)"
   ]
  },
  {
   "cell_type": "markdown",
   "id": "351dbfd0-1215-40eb-94ec-1f214fb7e9dc",
   "metadata": {},
   "source": [
    "Benytt transformasjonsformelen til å utlede sannsynlighetstettheten til $Z$, og vis at denne kan skrives \n",
    "på formen av en normalfordelingstetthet med forventningsverdi og varians lik formelene du fant \n",
    "for henholdsvis $E[Z]$ og $\\mbox{Var}[Z]$ i punktet over.    \n",
    "\n",
    "<em>Merk: Du har nå vist at enhver <b>lineær</b> funksjon av en normalfordelt variabel er normalfordelt, slik simuleringsstudien du gjorde over antydet.</em>"
   ]
  },
  {
   "cell_type": "markdown",
   "id": "61e4653f-a593-4dd5-9c03-b828416010cd",
   "metadata": {},
   "source": [
    "## Oppgave 4"
   ]
  },
  {
   "cell_type": "markdown",
   "id": "c6f923c9-30de-4915-ad45-3f82acdfa9df",
   "metadata": {},
   "source": [
    "Betrakt en poissonprosess med intensitet $\\lambda$. La $Z_1$ være tidspunkt for den første \n",
    "hendelsen i prosessen, la $Z_2$ være tidspunkt for den andre hendelsen i prosessen, og tilsvarende \n",
    "videre slik at $Z_k$ er tidspunkt for hendelse nummer $k$ i prosessen.\n",
    "\n",
    "La $X_1=Z_1$ og for $k=2,3,\\ldots$ la\n",
    "\n",
    "\\begin{align*}\n",
    "X_k = Z_k - Z_{k-1}.\n",
    "\\end{align*}\n",
    "\n",
    "Dermed har vi altså at $X_1$ er tid til første hendelse i poissonprosessen, og for $k=2,3,\\ldots$ er $X_k$ tid mellom to etterfølgende hendelser i poissonprosessen. Vi vet dermed at $X_1,X_2,\\ldots$ er uavhengige og ekseponensialfordelte, alle med samme parameterverdi $\\lambda$."
   ]
  },
  {
   "cell_type": "markdown",
   "id": "229fa885-b684-426f-844a-7c206b00ea67",
   "metadata": {},
   "source": [
    "## Deloppgave a)"
   ]
  },
  {
   "cell_type": "markdown",
   "id": "22383fa5-1c79-41d4-abfd-71a1620ef9dd",
   "metadata": {},
   "source": [
    "Finn sannsynlighetene \n",
    "\n",
    "\\begin{align*}\n",
    "P(X_1 \\geq 2),\\ \\ \\ \\ P(X_1 + X_2 \\geq 4)\\ \\ \\ \\ \\mbox{og}\\ \\ \\ \\ P(X_1+X_2\\geq 4|X_1\\geq 2).\n",
    "\\end{align*}\n",
    "\n",
    "Finn først formler for sannsynlighetene som funksjon av $\\lambda$, og sett deretter inn $\\lambda=0.5$ og regn ut en numerisk verdi."
   ]
  },
  {
   "cell_type": "markdown",
   "id": "9a14842b-d9a0-445c-9e8a-9e8442c335d9",
   "metadata": {},
   "source": [
    "#### Her er deloppgave a) slutt."
   ]
  },
  {
   "cell_type": "markdown",
   "id": "01d7365f-1082-4ddd-b5ae-80e9e54ac435",
   "metadata": {},
   "source": [
    "I de to siste deloppgavene i denne skriftlige innleveringen skal du bevise ved hjelp av induksjon at \n",
    "$Z_k$ er gammafordelt med parametre $\\alpha=k$ og $\\beta=\\frac{1}{\\lambda}$. Vi starter med å vise at påstanden er korrekt for $k=1$."
   ]
  },
  {
   "cell_type": "markdown",
   "id": "0b270fa4-e9d5-4b42-ad52-aa8ad07c484e",
   "metadata": {},
   "source": [
    "## Deloppgave b)"
   ]
  },
  {
   "cell_type": "markdown",
   "id": "6d6b0065-2081-4f9f-b044-458b6c6d9c82",
   "metadata": {},
   "source": [
    "Sett $\\alpha=1$ og $\\beta=\\frac{1}{\\lambda}$ i sannsynlighetstettheten til en gammafordeling og vis at \n",
    "sannsynlighetstettheten da blir identisk med en eksponensialfordeling med parameter $\\lambda$. <em>Merk: \n",
    "Du har dermed bevist at $Z_1$ er gammafordelt med parametre $\\alpha=1$ og $\\beta=\\frac{1}{\\lambda}$</em>.\n"
   ]
  },
  {
   "cell_type": "markdown",
   "id": "fa64b8cb-4166-4e7f-bca1-e367f77bd463",
   "metadata": {},
   "source": [
    "## Deloppgave c)"
   ]
  },
  {
   "cell_type": "markdown",
   "id": "5f744a72-9aed-47b2-a0a2-e0067b615d5f",
   "metadata": {},
   "source": [
    "Anta så at påstanden vi ønsker å bevise er korrekt for $k=n-1$, dvs vi antar at $Z_{n-1}$ er gammafordelt \n",
    "med parametre $\\alpha=n-1$ og $\\beta=\\frac{1}{\\lambda}$. Merk dessuten at vi vet at $Z_n = Z_{n-1}+X_n$ \n",
    "og at $Z_{n-1}$ og $X_n$ er uavhengige stokastiske variabler.\n",
    "\n",
    "Benytt setningen om total sannsynlighet (for kontinuerlige stokastiske variabler) til å vise at da blir \n",
    "$Z_n$ gammafordelt med parametre $\\alpha=n$ og $\\beta=\\frac{1}{\\lambda}$.\n",
    "\n",
    "<em>Merk: Ved induksjon har du dermed bevist, for alle $k=1,2,\\ldots$, at $Z_k$ er gammafordelt med \n",
    "parametre $\\alpha=k$ og $\\beta=\\frac{1}{\\lambda}$."
   ]
  },
  {
   "cell_type": "markdown",
   "id": "5cc00d5c-48df-4317-8838-959cc83917cc",
   "metadata": {},
   "source": [
    "## Fasit:\n",
    "* Oppgave 1a): $0.8106, 05125, 0.6168, 0.7302$\n",
    "* Oppgave 1b): $2174.2, 0.6340, 0.4168$\n",
    "* Oppgave 2a): $15, 0.5681, 0.5603, 0.5681$\n",
    "* Oppgave 3a): $E[Z]=a\\mu+b, \\mbox{Var}[Z]=a^2\\sigma^2$\n",
    "* Oppgave 4a): $0.3679, 0.4060, 0.7358$"
   ]
  }
 ],
 "metadata": {
  "kernelspec": {
   "display_name": "Python 3.10.13 64-bit",
   "language": "python",
   "name": "python3"
  },
  "language_info": {
   "codemirror_mode": {
    "name": "ipython",
    "version": 3
   },
   "file_extension": ".py",
   "mimetype": "text/x-python",
   "name": "python",
   "nbconvert_exporter": "python",
   "pygments_lexer": "ipython3",
   "version": "3.10.13"
  },
  "vscode": {
   "interpreter": {
    "hash": "bd385fe162c5ca0c84973b7dd5c518456272446b2b64e67c2a69f949ca7a1754"
   }
  }
 },
 "nbformat": 4,
 "nbformat_minor": 5
}
