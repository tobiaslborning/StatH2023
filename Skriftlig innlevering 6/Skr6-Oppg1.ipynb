{
 "cells": [
  {
   "cell_type": "markdown",
   "id": "c21890e9-c2e9-4fa8-b7fa-136f1e36cc23",
   "metadata": {},
   "source": [
    "# Skriftlig innlevering 6, Oppgave 1 (av 3)"
   ]
  },
  {
   "cell_type": "markdown",
   "id": "5f8822aa-12be-4dd8-818b-07b6a6f1bded",
   "metadata": {},
   "source": [
    "## Oppgave 1 *"
   ]
  },
  {
   "cell_type": "markdown",
   "id": "5b649e77-2dd6-4f91-b2c5-2ae18a17af3d",
   "metadata": {},
   "source": [
    "SAR (Synthetic Aperture Radar) er en målemetode som benyttes for å kartlegge jordoverflaten fra satelitt. Teknikken går kort fortalt ut på at man sender ut radarstråler fra satelitten og observerer hvor mye av denne strålingen som reflekteres tilbake. Hvor mye av radarstrålingen som reflekteres, avhenger av egenskapene til jordoverflaten på den aktuelle posisjonen og dermed kan man skille mellom ulike overflatetyper. En observasjon gjøres egentlig ved at man tar flere målinger (såkalte “looks”) og summerer disse. Ut fra fysiske lover for radarstråler er det kjent at en observasjon, $X$, vil være gammafordelt med parametre $\\alpha=a$ og $\\beta = r/a$, dvs. sannsynlighetstettheten er gitt ved\n",
    "\n",
    "\\begin{align*}\n",
    "f(x) = \\frac{a^a}{r^a\\Gamma(a)}x^{a-1}\\exp\\left\\{-\\frac{ax}{r}\\right\\}, \\,\\,x\\geq 0,\n",
    "\\end{align*}\n",
    "\n",
    "der $a$ er antall “looks” og refleksivitetsparameteren $r$ er en størrelse som beskriver refleksjonsegenskapene til jordoverflaten der observasjonen gjøres. Ut fra kjente formler for forventningsverdi og varians for gammafordelingen vet vi dermed også at tilhørende forventningsverdi og varians er gitt ved\n",
    "\n",
    "\\begin{align*}\n",
    "E[X] = r\\,\\,\\,\\,\\,\\mbox{og}\\,\\,\\,\\,\\,\\,\\mbox{Var}[X]=\\frac{r^2}{a}.\n",
    "\\end{align*}\n",
    "\n",
    "Vi skal nå anta at vi har $n$ observasjoner fra et homogent område (dvs. verdien på $r$ er den samme for alle de $n$ observasjonene). La $X_1, X_2,\\ldots, X_n$ være de $n$ observasjonene og anta at de er uavhengige. Fra disse observasjonene er vi interessert i å estimere $r$. Antall “looks”, $a=5$, antar vi kjent. Som estimator for $r$ skal vi benytte\n",
    "\n",
    "\\begin{align*}\n",
    "\\hat{r}=\\overline{X} = \\frac{1}{n}\\sum_{i=1}^n X_i.\n",
    "\\end{align*}"
   ]
  },
  {
   "cell_type": "markdown",
   "id": "454c1b9a-44ac-4ad8-bcbd-903d7d37ad3d",
   "metadata": {},
   "source": [
    "### Deloppgave a)"
   ]
  },
  {
   "cell_type": "markdown",
   "id": "31b96c2b-e4fc-467f-b9af-ad9b3eda67e2",
   "metadata": {},
   "source": [
    "Finn forventningsverdi og varians til estimatoren $\\hat{r}$.\n",
    "\n",
    "Forklar hvordan du kan bruke sentralgrenseteoremet til å konkludere at \n",
    "\n",
    "\\begin{align*}\n",
    "\\frac{\\hat{r}-r}{r}\\sqrt{na} \n",
    "\\end{align*}\n",
    "\n",
    "er tilmærmet standard normalfordelt når $n$ er stor (nok)."
   ]
  },
  {
   "cell_type": "markdown",
   "id": "e7119831-3f9f-4120-ae7b-a416ad31bd73",
   "metadata": {},
   "source": [
    "#### Her er deloppgave a) slutt"
   ]
  },
  {
   "cell_type": "markdown",
   "id": "069d95f8-fc4d-41e6-97b6-8c16b14de960",
   "metadata": {},
   "source": [
    "Vi fokuserer nå på et område hvor det er kjent at det for et år siden var en overflatetype som hadde refleksjonsparameter $r_0=12.5$. For å undersøke om overflaten har endret seg siden i fjor på en slik måte at refleksjonsparameteren har økt, gjøres det $n=20$ målinger med $a=5$ looks fra det aktuelle området. De $n=20$ observerte verdiene er som følger:\n",
    "\n",
    "\\begin{align*}\n",
    "7.98,10.82,15.88,17.00,24.22,12.20,8.17,16.53,7.46,14.31,34.55,19.46,20.21,13.58,10.98,4.42,24.92,30.29,23.45,23.36\n",
    "\\end{align*}\n",
    "\n",
    "Vi ønsker nå å benytte disse verdiene til å undersøke om det er grunnlag til å påstå at verdien til refleksjonsparameterem har økt siden i fjor. \n",
    "\n",
    "Videre i oppgaven skal vi forutsette at $n=20$ observasjoner er tilstrekkelig til at normalapproksimasjonen diskutert i deloppgave a) er god, slik at du kan benytte denne i dine videre beregninger."
   ]
  },
  {
   "cell_type": "markdown",
   "id": "0917c189-63ed-4216-a8f3-5e28c1d2794c",
   "metadata": {},
   "source": [
    "### Deloppgave b)"
   ]
  },
  {
   "cell_type": "markdown",
   "id": "5fd7bef6-93a0-47b8-9d1c-4870562b2257",
   "metadata": {},
   "source": [
    "For å få et første inntrykk at de $n=20$ observerte verdiene, bruk verdiene til å lage følgende plott i python\n",
    "\n",
    "  - histogram\n",
    "  - boksplott (for dette kan du bruke funksjonen boxplot i modulen matplotlib.pyplot)\n",
    "  \n",
    "Ut fra hva du ser i plottene, hva tror du om verdien av refleksjonsparameteren i år i forhold til i fjor? Tror du det er grunnlag for å påstå at verdien har økt siden i fjor?"
   ]
  },
  {
   "cell_type": "code",
   "execution_count": 2,
   "id": "2e7852a8",
   "metadata": {},
   "outputs": [
    {
     "data": {
      "image/png": "[encoded data removed]",
      "text/plain": [
       "<Figure size 640x480 with 1 Axes>"
      ]
     },
     "metadata": {},
     "output_type": "display_data"
    },
    {
     "data": {
      "image/png": "[encoded data removed]",
      "text/plain": [
       "<Figure size 640x480 with 1 Axes>"
      ]
     },
     "metadata": {},
     "output_type": "display_data"
    },
    {
     "name": "stdout",
     "output_type": "stream",
     "text": [
      "r_hat = 16.9895\n"
     ]
    }
   ],
   "source": [
    "# Her kan du skrive din python-kode(husk å importere nødvendige bibliotek)\n",
    "import matplotlib.pyplot as plt\n",
    "import numpy as np\n",
    "\n",
    "obsVerdier = [7.98,10.82,15.88,17.00,24.22,12.20,8.17,16.53,7.46,14.31,34.55,19.46,20.21,13.58,10.98,4.42,24.92,30.29,23.45,23.36]\n",
    "r_0 = 12.5\n",
    "n = 20\n",
    "a = 5\n",
    "\n",
    "plt.hist(obsVerdier,bins=100)\n",
    "plt.show()\n",
    "plt.boxplot(obsVerdier)\n",
    "plt.show()\n",
    "\n",
    "r_hat = sum(obsVerdier)/n\n",
    "print(f\"r_hat = {r_hat}\")\n"
   ]
  },
  {
   "cell_type": "markdown",
   "id": "f6e44640",
   "metadata": {},
   "source": [
    "#### svar b)\n",
    "Det ser ut som at r har økt, ettersom mange av verdiene, inkl forventingsverdien er høyere enn r_0 = 12.5\n",
    " "
   ]
  },
  {
   "cell_type": "markdown",
   "id": "2e239a46-6752-4f59-8963-8e0150907284",
   "metadata": {},
   "source": [
    "### Deloppgave c)"
   ]
  },
  {
   "cell_type": "markdown",
   "id": "b2d97cf8-192f-4b1e-b31e-a6b9be6fd106",
   "metadata": {},
   "source": [
    "Formuler problemstillingen gitt over som et hypotesetestingsproblem. Formuler null- og alternativ hypotese, velg testobservator, bestem beslutningsregel og finn hva konklusjonen blir basert på de observerte verdiene gitt over for signifikansnivå $\\alpha=0.10$."
   ]
  },
  {
   "cell_type": "markdown",
   "id": "e37e2e6c-7441-44a5-9f17-0450ec771571",
   "metadata": {},
   "source": [
    "#### Her er deloppgave c) slutt"
   ]
  },
  {
   "cell_type": "markdown",
   "id": "45cdbdea-0756-49dd-a752-cdae95c978f5",
   "metadata": {},
   "source": [
    "Anta at man også ønsker å gjøre en tilsvarende undersøkelse av et annet område som også hadde refleksjonsparameter $r_0=12.5$ i fjor. Før man gjør observasjoner fra dette området ønsker man å bestemme hvor mange observasjoner $n$ man bør gjøre for at sannsynligheten for type II-feil skal være tilstrekkelig lav. Vi skal anta at man fremdeles bruker observasjoner med $a=5$ looks og at signifikansnivået fremdeles settes lik $\\alpha=0.10$."
   ]
  },
  {
   "cell_type": "markdown",
   "id": "1228ac6b-218b-4428-a752-674d25207a38",
   "metadata": {},
   "source": [
    "### Deloppgave d)"
   ]
  },
  {
   "cell_type": "markdown",
   "id": "b4d3e9d9-85bd-438a-ab18-ac99095f0255",
   "metadata": {},
   "source": [
    "Bestem hvor mange observasjoner, $n$, man minst må gjøre for at sannsynligheten for type II-feil skal være mindre enn eller lik $0.20$ dersom refleksjonsparameteren er større enn eller lik $15$."
   ]
  },
  {
   "cell_type": "markdown",
   "id": "caa135ff-78f6-4a89-b0c2-fff18205de02",
   "metadata": {},
   "source": [
    "#### Her er deloppgave d) slutt"
   ]
  },
  {
   "cell_type": "markdown",
   "id": "d04aa794-4716-470b-8b17-d60c913b96b2",
   "metadata": {},
   "source": [
    "I deloppgave c) og d) har vi regnet som om størrelsen diskutert i deloppgave a) er standard normalfordelt. Dette er en approksimasjon, noe som innebærer at beslutningsregelen bestemt i deloppgave c) kan ha en sannsynlighet for type I-feil som avviker noe fra $0.10$. I neste deloppgave skal du bruke stokastisk simulering til å estimere den faktiske sansynligheten for type I-feil som man får ved å benytte beslutningsregelen fra deloppgave c)."
   ]
  },
  {
   "cell_type": "markdown",
   "id": "e0105134-eef1-431f-9f73-7574be3da86b",
   "metadata": {},
   "source": [
    "### Deloppgave e)"
   ]
  },
  {
   "cell_type": "markdown",
   "id": "93426e2c-d953-4e6c-9819-ea30d659d582",
   "metadata": {},
   "source": [
    "Skriv en python-funksjon som først simulerer $n=20$ \"observasjoner\" fra gammafordelingen som gjelder når $H_0$ er sann, og deretter benytter disse observasjonene til å evaluere og returnere verdien til den tilhørende testobservatoren. <em>Merk: For å generere realisasjoner fra en gammafordeling kan du benytte funksjonen gamma i modulen numpy.random.</em>\n",
    "\n",
    "Benytt så denne python-funksjonen, for eksempel $m=100\\, 000$ ganger, til å estimere testens eksakte sannsynlighet for type I-feil. Finn også et $95\\%$-konfidensintervall for den eksakte sannsynligheten for type I-feil. Basert på resultatene du har fått her, hva tenker du om kvaliteten av approksimasjonen du gjorde da du i deloppgave c) regnet som om testobservatoren var standard normalfordelt under $H_0$?"
   ]
  },
  {
   "cell_type": "code",
   "execution_count": 5,
   "id": "00113c11-cf4c-41ad-9e0c-5a792d04922e",
   "metadata": {},
   "outputs": [
    {
     "name": "stdout",
     "output_type": "stream",
     "text": [
      "Simulate r_hat: 10.798458199008678\n",
      "Absolute probablity of type I error: 0.13022\n"
     ]
    }
   ],
   "source": [
    "# Her kan du skrive din python-kode.\n",
    "r_0 = 12.5\n",
    "n = 20\n",
    "a = 5\n",
    "r = r_0\n",
    "alpha = a\n",
    "beta = r/a\n",
    "k = 13.91\n",
    "\n",
    "def simR_hat(n):\n",
    "    tmp = np.zeros(n)\n",
    "    for i in range(n):\n",
    "        tmp[i] = np.random.gamma(alpha,beta)\n",
    "    return sum(tmp)/n\n",
    "\n",
    "def simTypeIError(n):\n",
    "    aboveCrit = 0\n",
    "    for i in range(n):\n",
    "        if simR_hat(20) >= k:\n",
    "            aboveCrit += 1\n",
    "    return aboveCrit/n\n",
    "\n",
    "print(f\"Simulate r_hat: {simR_hat(n)}\")\n",
    "print(f\"Absolute probablity of type I error: {simTypeIError(100000)}\")"
   ]
  },
  {
   "cell_type": "code",
   "execution_count": null,
   "id": "a80d58e9",
   "metadata": {},
   "outputs": [],
   "source": [
    "np.random.gamma"
   ]
  },
  {
   "cell_type": "markdown",
   "id": "48ea24d0",
   "metadata": {},
   "source": [
    "## Fasit\n",
    "- Oppgave 1a: $E[\\hat r]=r$, $\\text{Var}[\\hat r] = \\frac{r^2}{na}$\n",
    "- Oppgave 1c: Forkast $H_0$.\n",
    "- Oppgave 1d: $n=27$"
   ]
  }
 ],
 "metadata": {
  "kernelspec": {
   "display_name": "Python 3.11.5 64-bit",
   "language": "python",
   "name": "python3"
  },
  "language_info": {
   "codemirror_mode": {
    "name": "ipython",
    "version": 3
   },
   "file_extension": ".py",
   "mimetype": "text/x-python",
   "name": "python",
   "nbconvert_exporter": "python",
   "pygments_lexer": "ipython3",
   "version": "3.11.5"
  },
  "vscode": {
   "interpreter": {
    "hash": "b0fa6594d8f4cbf19f97940f81e996739fb7646882a419484c72d19e05852a7e"
   }
  }
 },
 "nbformat": 4,
 "nbformat_minor": 5
}
