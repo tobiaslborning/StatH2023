{
 "cells": [
  {
   "cell_type": "markdown",
   "id": "b19acfec-493d-4073-8a69-a93369858d00",
   "metadata": {},
   "source": [
    "# Skriftlig innlevering 4, Oppgave 3-4 (av 4)"
   ]
  },
  {
   "cell_type": "markdown",
   "id": "cb0350db-226c-4f05-b890-9c25a80a336d",
   "metadata": {},
   "source": [
    "### Oppgave 3"
   ]
  },
  {
   "cell_type": "markdown",
   "id": "d115f956-0872-428b-8859-f6f978528ef3",
   "metadata": {},
   "source": [
    "Vi betrakter en skålvekt for veiing av prøver. Prøven med vekt $\\mu$ plasseres på en av skålene og lodd plasseres på den andre skålen til vektens arm er tilnærmet horisontal. Den kjente vekten av loddene er da tilnærmet lik prøvens vekt. Vi antar at den målte vekt er normalfordelt med forventningsverdi $\\mu$ og varians $\\sigma^2$ og at resultatene av forskjellige målinger er uavhengige."
   ]
  },
  {
   "cell_type": "markdown",
   "id": "7f5969ee-00c1-4313-a160-2484348845f0",
   "metadata": {},
   "source": [
    "### Deloppgave a)"
   ]
  },
  {
   "cell_type": "markdown",
   "id": "e42a318e-9920-497e-b869-38018c50b049",
   "metadata": {},
   "source": [
    "Anta i denne deloppgaven at man gjør to veiinger av en prøve hvor $\\mu=10$ gram og $\\sigma=0.2$ gram. La $X$ og $Y$ være målt vekt i de to veiingene.\n",
    "\n",
    "Hva er sannsynligheten for at gjennomsnittlig målt vekt er større enn $10.2$ gram?\n",
    "\n",
    "Hva er sannsynligheten for at differansen mellom de to målte vektene er større enn $0.4$ gram?"
   ]
  },
  {
   "cell_type": "markdown",
   "id": "172476bd-e5e7-4ebd-97b9-ceaf42294a37",
   "metadata": {},
   "source": [
    "#### Her er deloppgave a) slutt"
   ]
  },
  {
   "cell_type": "markdown",
   "id": "734ff07c-21b4-477e-a1ea-3aafff77b6ed",
   "metadata": {},
   "source": [
    "Det er kommet inn to prøver som begge skal veies, prøve A og prøve B. La $\\mu_A$ og $\\mu_B$ betegne de sanne vektene av prøvene. Det er foreslått å estimere vektene av prøve A og B på to forskjellige måter:\n",
    "\n",
    "Alternativ 1: Vei først prøve A fem ganger, og la $X_1,X_2,X_3,X_4,X_5$ betegne de målte vektene. Vei deretter prøve B fem ganger, og la $Y_1,Y_2,Y_3,Y_4,Y_5$ betegne de målte vektene. Bruk så følgende estimatorer for $\\mu_A$ og $\\mu_B$,\n",
    "\n",
    "\\begin{align*}\n",
    "\\hat{\\mu}_A = \\overline{X} = \\frac{1}{5}\\sum_{i=1}^5 X_i \\,\\,\\,\\,\\,\\,\\text{og}\\,\\,\\,\\,\\,\\,\\hat{\\mu}_B = \\overline{Y} = \\frac{1}{5}\\sum_{i=1}^5 Y_i.\n",
    "\\end{align*}\n",
    "\n",
    "Alternativ 2: Vei først fem ganger summen av vekten på prøve A og B ved å plassere begge prøvene på samme vektskål og la $U_1,U_2,U_3,U_4,U_5$ betegne de målte vektene. Vei deretter fem ganger differansen mellom vektene på prøve A og prøve B, dvs A-B, ved å plassere prøvene på hver sin vektskål, og la $V_1,V_2,V_3,V_4,V_5$ betegne de målte differansene. Bruk så følgende estimatorer for $\\mu_A$ og $\\mu_B$,\n",
    "\n",
    "\\begin{align*}\n",
    "\\tilde{\\mu}_A = \\frac{1}{2}\\left(\\overline{U}+\\overline{V}\\right)\\,\\,\\,\\,\\,\\,\\text{og}\\,\\,\\,\\,\\,\\,\\tilde{\\mu}_B=\\frac{1}{2}\\left(\\overline{U}-\\overline{V}\\right),\n",
    "\\end{align*}\n",
    "\n",
    "der $\\overline{U}=\\frac 1 5 \\sum_{i=1}^5U_i$ og $\\overline{V}=\\frac 1 5 \\sum_{i=1}^5 V_i$."
   ]
  },
  {
   "cell_type": "markdown",
   "id": "15e20323-aab3-4a24-ac65-558c8f37c601",
   "metadata": {},
   "source": [
    "### Deloppgave b)"
   ]
  },
  {
   "cell_type": "markdown",
   "id": "7ab4c978-fadb-4a38-a440-8593d49e1441",
   "metadata": {},
   "source": [
    "Finn forventningsverdi og varians for de fire estimatorene $\\hat{\\mu}_A$, $\\hat{\\mu}_B$, $\\tilde{\\mu}_A$ og $\\tilde{\\mu}_B$. \n",
    "\n",
    "Hvilken av de to alternative fremgangsmåtene for å estimate $\\mu_A$ og $\\mu_B$ vil du foretrekke? Gi en begrunnelse for svaret.\n",
    "\n",
    "\n",
    "\n"
   ]
  },
  {
   "cell_type": "markdown",
   "id": "7429a31f-ccd2-4e22-b48e-8e02f067d03d",
   "metadata": {},
   "source": [
    "## Oppgave 4"
   ]
  },
  {
   "cell_type": "markdown",
   "id": "40f8985e-c011-41fc-bb7f-59e13ce4f828",
   "metadata": {},
   "source": [
    "Det vurderes å utbedre en lite trafikkert, men farlig veistrekning i Trondheimsområdet. I den sammenheng blir du bedt om å analysere hvor mye trafikk det er på veien. La $X$ være antall biler som passerer et bestemt punkt på veistrekningen fra kl 16:00 til kl 18:00 på en tilfeldig valgt hverdag. Vi antar at $X$ er poissonfordelt med parameter $\\lambda$, dvs \n",
    "\n",
    "\\begin{align*}\n",
    "f(x) = \\frac{\\lambda^x}{x!}e^{-\\lambda},\\,\\,\\,,x=0,1,2,\\ldots\n",
    "\\end{align*}\n",
    "\n",
    "Verdien til parameteren $\\lambda$ er ukjent, så for å kunne estimere denne verdien oberverer vi antall passerende biler fra kl 16:00 til 18:00 på $n$ tilfeldig valgte hverdager, og lar $X_1,X_2,\\ldots,X_n$ være antall biler som passerte på disse $n$ dagene.Vi antar at observasjonene er uavhengige og identisk fordelt med samme poissonfordeling som beskrevet over."
   ]
  },
  {
   "cell_type": "markdown",
   "id": "dfaee6de-9278-43cc-a6e7-14114331fd4d",
   "metadata": {},
   "source": [
    "### Deloppgave a)"
   ]
  },
  {
   "cell_type": "markdown",
   "id": "7f4d5983-ff95-4102-af73-bad2624d843f",
   "metadata": {},
   "source": [
    "Utled sannsynlighetsmaksimeringsestimatoren (SME) for $\\lambda$, $\\hat{\\lambda}$, basert på $X_1,X_2,\\ldots,X_n$.\n",
    "\n",
    "Er $\\hat{\\lambda}$ forventningsrett? Begrunn svaret.\n",
    "\n",
    "Finn variansen til $\\hat{\\lambda}$."
   ]
  },
  {
   "cell_type": "markdown",
   "id": "c94c0eba-8f12-4656-8de9-e56623b9c684",
   "metadata": {},
   "source": [
    "#### Her er deloppgave a) slutt"
   ]
  },
  {
   "cell_type": "markdown",
   "id": "78ec1196-14f6-49ad-87e7-03cb7956e2b5",
   "metadata": {},
   "source": [
    "Kommunen ønsker å samle inn mer data om hvor trafikkert veien er. Derfor registreres det også hvor mange biler som passerer på veien fra kl 18:00 til kl 20:00 på $m$ tilfeldig valgte hverdager, og vi lar $Y_1,Y_2,\\ldots,Y_m$ være antall biler som da passerer. Vi antar at disse observasjonene er uavhengige og identisk poissonfordelte med parameter $\\lambda/2$, altså halv intensitet i forhold til fra kl 16:00 til kl 18:00. Vi antar også at $Y_1,Y_2,\\ldots,Y_m$ og uavhengig av $X_1,X_2,\\ldots,X_n$."
   ]
  },
  {
   "cell_type": "markdown",
   "id": "36b1afba-f571-44b7-b9ea-300bb4c70228",
   "metadata": {},
   "source": [
    "Som estimator for $\\lambda$ basert på $X_1,X_2,\\ldots,X_n$ og $Y_1,Y_2,\\ldots,Y_m$ er det foreslått\n",
    "\n",
    "\\begin{align*}\n",
    "\\tilde{\\lambda} = \\alpha \\overline{X} + \\beta \\overline{Y},\n",
    "\\end{align*}\n",
    "\n",
    "der $\\alpha,\\beta\\in\\mathbb{R}$ er to konstanter som skal velges, og $\\overline{X}=\\frac 1 n \\sum_{i=1}^nX_i$ og $\\overline{Y}=\\frac 1 m \\sum_{i=1}^m Y_i$."
   ]
  },
  {
   "cell_type": "markdown",
   "id": "5f512c61-fdb5-4a5a-a870-414e3e5c524a",
   "metadata": {},
   "source": [
    "### Deloppgave b)"
   ]
  },
  {
   "cell_type": "markdown",
   "id": "428fce6c-9edf-4700-8f1f-46c58b61b2f9",
   "metadata": {},
   "source": [
    "Bestem konstantene $\\alpha$ og $\\beta$ slik at estimatoren $\\tilde{\\lambda}$ blir best mulig. Svaret skal angis som funksjoner av $n$ og $m$."
   ]
  },
  {
   "cell_type": "markdown",
   "id": "12f5b85e-efba-4677-b9b9-6a8ec46e431d",
   "metadata": {},
   "source": [
    "### Deloppgave c)"
   ]
  },
  {
   "cell_type": "markdown",
   "id": "630c2c2f-8c4c-4b0b-b8bd-8c16b21ef5e1",
   "metadata": {},
   "source": [
    "Til slutt i denne oppgaven skal du bruke stokastisk simulering til undersøke fordelingen til estimatoren $\\tilde{\\lambda}$ når verdiene til konstantene $\\alpha$ og $\\beta$ velges lik de optimale verdiene du fant i deloppgave b). La $n=25$ og $m=18$, og sett $\\lambda=12$. \n",
    "\n",
    "Skriv python-kode som $r=1000$ ganger simulerer verdier for $X_1,X_2,\\ldots,X_n$ og $Y_1,Y_2,\\ldots,Y_m$ og regner ut resulterende verdi for $\\tilde{\\lambda}$. Lag et sannsynlighetshistogram for de $r$ simulerte verdiene for $\\tilde{\\lambda}$. Bruk for eksempel \"bins=25\" som argument i pythonfunksjonen \"plt.hist\"."
   ]
  },
  {
   "cell_type": "code",
   "execution_count": 2,
   "id": "1b024460-5980-4c4f-bbe6-b271f842e6ee",
   "metadata": {},
   "outputs": [
    {
     "data": {
      "image/png": "[encoded data removed]",
      "text/plain": [
       "<Figure size 640x480 with 1 Axes>"
      ]
     },
     "metadata": {},
     "output_type": "display_data"
    }
   ],
   "source": [
    "# Her kan du skrive kode for å simulere verdier og lage sannsynlighetshistogram\n",
    "import matplotlib.pyplot as plt\n",
    "import numpy as np\n",
    "\n",
    "\n",
    "n = 25\n",
    "m = 18\n",
    "l = 12\n",
    "alpha = (2*n)/(2*n+m)\n",
    "beta  = (2*m)/(2*n+m)\n",
    "\n",
    "def simLambdaTilde(r):\n",
    "    ut = np.zeros(r)\n",
    "    for j in range(r):\n",
    "        X = np.zeros(n)\n",
    "        Y = np.zeros(m)\n",
    "        for i in range(n):\n",
    "            X[i] = np.random.poisson(l)\n",
    "        for i in range(m):\n",
    "            Y[i] = np.random.poisson(l/2)\n",
    "        avgX = sum(X)/n\n",
    "        avgY = sum(Y)/m\n",
    "        ut[j] = alpha*avgX + beta*avgY\n",
    "    return ut\n",
    "\n",
    "lamdaTilde = simLambdaTilde(10000)\n",
    "plt.hist(lamdaTilde,density=True,bins=25)\n",
    "plt.show()\n",
    "        \n",
    "    \n",
    "\n"
   ]
  },
  {
   "cell_type": "markdown",
   "id": "581c88ac-b2c3-4a95-a084-14f0c90099ef",
   "metadata": {},
   "source": [
    "Greier du ut fra sannsynlighetshistogrammet å vurdere om $\\tilde{\\lambda}$ er normalfordelt? Hvor sikker er du i din vurdering?\n",
    "\n",
    "Lag et normalfordelingsplott (qq-plot) basert på de $r$ simulerte verdiene for $\\tilde{\\lambda}$. Ser $\\tilde{\\lambda}$ ut til å være normalfordelt? <em>Hint: Du kan bruke phytonfunksjonen \"qqplot\" i modulen statsmodels for å generere et qq-plot. Under ser du hvordan du kan laste inn modulen statsmodel og hvordan du kan kalle funksjonen qqplot. Her er det antatt at dine simulerte verdier for $\\tilde{\\lambda}$ ligger i en vektor med navn \"lambdatilde\".</em>\n",
    "\n",
    "Kan du gi en teoretisk begrunnelse for at $\\hat{\\lambda}$ er (i hvert fall tilnærmet) normalfordelt?"
   ]
  },
  {
   "cell_type": "code",
   "execution_count": null,
   "id": "244681df-e27f-4395-8575-a86a1c981a37",
   "metadata": {},
   "outputs": [],
   "source": [
    "import statsmodels.api as sm\n",
    "\n",
    "sm.qqplot(lambdatilde)\n",
    "plt.show()"
   ]
  },
  {
   "cell_type": "markdown",
   "id": "0118c8f9-3416-4980-a754-0c42b845e311",
   "metadata": {},
   "source": [
    "## Fasit:\n",
    "\n",
    "* Oppgave 3a: $0.0793$, $0.1586$\n",
    "* Oppgave 3b: $E[\\hat{\\mu}_A]=\\mu_A$, $E[\\hat{\\mu}_B]=\\mu_B$, $\\mbox{Var}[\\hat{\\mu}_A]=\\mbox{Var}[\\hat{\\mu}_B]=\\frac{\\sigma^2}{5}$, $E[\\tilde{\\mu}_A]=\\mu_A$, $E[\\tilde{\\mu}_B]=\\mu_B$, $\\mbox{Var}[\\tilde{\\mu}_A]=\\mbox{Var}[\\tilde{\\mu}_B]=\\frac{\\sigma^2}{10}$\n",
    "* Oppgave 4a: $\\hat{\\lambda}$ er forventningsrett, $\\mbox{Var}[\\hat{\\lambda}]=\\frac{\\lambda}{n}$\n",
    "* Oppgave 4b: $\\alpha=\\frac{2n}{2n+m}$, $\\beta=\\frac{2m}{2n+m}$"
   ]
  }
 ],
 "metadata": {
  "kernelspec": {
   "display_name": "Python 3.10.13 64-bit",
   "language": "python",
   "name": "python3"
  },
  "language_info": {
   "codemirror_mode": {
    "name": "ipython",
    "version": 3
   },
   "file_extension": ".py",
   "mimetype": "text/x-python",
   "name": "python",
   "nbconvert_exporter": "python",
   "pygments_lexer": "ipython3",
   "version": "3.10.13"
  },
  "vscode": {
   "interpreter": {
    "hash": "bd385fe162c5ca0c84973b7dd5c518456272446b2b64e67c2a69f949ca7a1754"
   }
  }
 },
 "nbformat": 4,
 "nbformat_minor": 5
}
