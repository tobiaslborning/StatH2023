{
 "cells": [
  {
   "cell_type": "markdown",
   "id": "927a893a-5475-4c13-b073-e75478a87ece",
   "metadata": {},
   "source": [
    "# Skriftlig innlevering 6, Oppgave 2-3 (av 3)"
   ]
  },
  {
   "cell_type": "markdown",
   "id": "1156f885-e322-440c-8d1b-85f645d9484a",
   "metadata": {},
   "source": [
    "## Oppgave 2"
   ]
  },
  {
   "cell_type": "markdown",
   "id": "d64bdea9-5826-4cbe-98fa-06f497108354",
   "metadata": {},
   "source": [
    "Anta at man har gjennomført en medisinsk studie for å vurdere om en ny medisin for en bestemt sykdom er bedre enn den tradisjonelle medisinen som har vært benyttet for denne sykdommen. Det var $n=15$ pasienter som deltok i studien. Av disse $n$ pasientene ble $m=7$ tilfeldig trukket ut og disse $m$ pasientene ble gitt den nye medisinen. De øvrige $n-m=8$ pasientene fikk den gamle medisinen.\n",
    "\n",
    "Effekten av behandlingen (medisinen) kan måles ved hjelp av en blodprøve. Vi skal i denne oppgaven anta at en lav blodprøveverdi er en indikasjon på at medisinen som er gitt har hatt en god effekt. Jo lavere blodprøveverdien er, jo bedre har effekten av medisinen vært.\n",
    "\n",
    "I denne oppgaven ønsker vi å bruke følgende observerte blodprøveverdier til å vurdere om det er grunnlag for å påstå at den nye medisinen er mer effektiv enn den gamle.\n",
    "\n",
    "\n",
    "Tradisjonell medisin | 0.189 | 0.743 | 0.605 | 0.044 | 0.091 | 0.045 | 0.532 | 0.642 |\n",
    ":-----------|---:|---:|---:|---:|---:|---:|---:|---:|\n",
    "__Ny medisin__ | __0.397__ | __0.583__ | __0.355__ | __0.054__ | __0.155__ | __0.066__ | __0.099__ | |\n",
    "\n",
    "Vi skal formulere problemet som en hypotesetest og som testobservator skal vi benytte gjennomsnittet av observerte blodprøveverdier for pasienter som fikk ny medisin minus gjennomsnittet av observerte blodprøveverdier for pasienter som fikk den tradisjonelle medisinen.\n"
   ]
  },
  {
   "cell_type": "markdown",
   "id": "75353a3f-2b31-49e6-9195-6aa8715db05f",
   "metadata": {},
   "source": [
    "### Deloppgave a)"
   ]
  },
  {
   "cell_type": "markdown",
   "id": "08b45f43-7970-4dc8-b049-9c3340ed2a4d",
   "metadata": {},
   "source": [
    "For å få et første inntrykk at de observerte verdiene, lag et boksplott for observerte blodprøveverdiene for pasientene som fikk tradisjonell medisin, og et boksplott for observerte blodprøveverdier for pasienter som fikk ny medisin. <em>Hint: Jobben blir gjort ved å kjøre koden under. Du trenger ikke endre på den gitte koden.</em>"
   ]
  },
  {
   "cell_type": "code",
   "execution_count": 2,
   "id": "7863cac9-c153-4bf0-bc51-20a87ed4982e",
   "metadata": {},
   "outputs": [
    {
     "data": {
      "image/png": "[encoded data removed]",
      "text/plain": [
       "<Figure size 640x480 with 1 Axes>"
      ]
     },
     "metadata": {},
     "output_type": "display_data"
    }
   ],
   "source": [
    "import pandas as pd\n",
    "import numpy as np\n",
    "import matplotlib.pyplot as plt\n",
    "import seaborn as sns\n",
    "\n",
    "x = [0.189,0.743,0.605,0.044,0.091,0.045,0.532,0.642,\n",
    "     0.397,0.583,0.355,0.054,0.155,0.066,0.099]\n",
    "data = pd.DataFrame({'verdi': x, 'medisin': \n",
    "                     ['Trad', 'Trad', 'Trad', 'Trad', 'Trad', 'Trad', 'Trad', 'Trad', \n",
    "                      'Ny', 'Ny', 'Ny', 'Ny', 'Ny', 'Ny', 'Ny']})\n",
    "sns.boxplot(x='medisin',y='verdi',data=data)\n",
    "plt.show()"
   ]
  },
  {
   "cell_type": "markdown",
   "id": "3e697f67-734c-44ae-926b-4cbaad9e6ef5",
   "metadata": {},
   "source": [
    "Ut fra hva du ser i disse to boksplottene, tenker du at det er grunnlag for å påstå at den nye medisinen gir bedre effekt enn den tradisjonelle? Gi argumenter for ditt svar."
   ]
  },
  {
   "cell_type": "markdown",
   "id": "ac0cabce",
   "metadata": {},
   "source": [
    "#### svar a)\n",
    "Det ser ut til at den nye har bedre effekt enn den gamle, både fordi den har lavere forventningsverdi samt lavere varians."
   ]
  },
  {
   "cell_type": "markdown",
   "id": "53e71bad-9bd5-4dde-9a10-fbf7d0d14199",
   "metadata": {},
   "source": [
    "### Deloppgave b)"
   ]
  },
  {
   "cell_type": "markdown",
   "id": "84c67086-31ef-497a-9124-b817db934637",
   "metadata": {},
   "source": [
    "Formuler nullhypotese $H_0$ og alternativ hypotese $H_1$ for problemstillingen beskrevet i innledningen til oppgaven.\n",
    "\n",
    "Bestem hvilken beslutningsregel det er rimelig å bruke. <em>Merk: Du trenger ikke å finne kritisk verdi, bare bestemme om man skal forkaste $H_0$ når testobservatoren er stor nok, om man skal forkaste $H_0$ når testobservatoren er liten nok, eller om man bør ha et tosidig forkastningskriterium.</em>\n",
    "\n",
    "Skriv og kjør python-kode som bruker stokastiske simulering til å estimere p-verdien i en permutasjonstest når observasjonene er som gitt over. Benytt gjerne $m=10\\, 000$ simuleringer for å estimere p-verdien. <em>Hint: Koden under regner ut observert verdi av testobservatoren og <b>en</b> simulert verdi av denne. Du er nødt til å modifisere denne koden slik at den gjør det som det spørres om.</em>"
   ]
  },
  {
   "cell_type": "markdown",
   "id": "d7c7b541",
   "metadata": {},
   "source": [
    "$H_0$: mu = $mu_0$,  $H_1$:mu < $mu_0$\n",
    "\n",
    "ettersom observatoren sjekker differansen mellom de nye blodprøvene og de gamle blodprøvene\n",
    "forkaster vi $H_0$ dersom testobservatoren er liten nok\n",
    "\n"
   ]
  },
  {
   "cell_type": "code",
   "execution_count": 40,
   "id": "268971a8-2626-4a2a-a5c8-24600bd631a8",
   "metadata": {},
   "outputs": [
    {
     "name": "stdout",
     "output_type": "stream",
     "text": [
      "Observert verdi:  -0.14666666666666667\n",
      "Simulert verdi:  -0.16944444444444448\n",
      "Permutation test p-value: 0.135\n"
     ]
    }
   ],
   "source": [
    "def testStatistic(x,nTrad):  \n",
    "    #x inneholder alle observerte verdier, de nTrad \n",
    "    #første av disse er for pasienter som som fikk tradisjonell medisin    \n",
    "    \n",
    "    #gjennomsnitt av observerte verdier for pasienter som fikk tradisjonell medisin:\n",
    "    meanTrad = np.mean(x[0:(nTrad+1)])\n",
    "    #gjennomsnitt av observerte verdier for pasienter som fikk by medisin\n",
    "    meanNew = np.mean(x[(nTrad+1):]) \n",
    "    \n",
    "    return meanNew - meanTrad  #returnerer differansen\n",
    "\n",
    "\n",
    "from random import sample\n",
    "\n",
    "# regner ut observert verdi av testobservatoren:\n",
    "statisticObserved = testStatistic(x = x,nTrad = 8)  \n",
    "print('Observert verdi: ',statisticObserved)\n",
    "\n",
    "# genererer tilfeldig en permutasjon av (alle) elementene i lista x:\n",
    "xPermuted = sample(x,len(x))  \n",
    "# regner ut simulert verdi av testobservatoren\n",
    "statisticSimulated = testStatistic(xPermuted,8)\n",
    "print('Simulert verdi: ',statisticSimulated)\n",
    "\n",
    "def genereate_p_value(n):\n",
    "    extreme = 0\n",
    "    for i in range(n):\n",
    "        perm = sample(x,len(x))\n",
    "        if testStatistic(perm,8) < statisticObserved: # sjekker om den genererte permutasjonen er mindre enn den observerte verdien\n",
    "            extreme += 1\n",
    "    return extreme/n\n",
    "\n",
    "print(f\"Permutation test p-value: {(genereate_p_value(10000))}\") \n",
    "# ^ sansynligheten for å få den observerte verdien eller lavere, gitt at H_0 er sann\n",
    "\n",
    "\n"
   ]
  },
  {
   "cell_type": "markdown",
   "id": "0e52e26e-7106-4805-9fb5-405032d4f75e",
   "metadata": {},
   "source": [
    "## Oppgave 3"
   ]
  },
  {
   "cell_type": "markdown",
   "id": "f12e8de8-c20a-4c37-9877-1ee3c1b47cff",
   "metadata": {},
   "source": [
    "Anta at vi har observert observasjonspar $(x_1,y_1),(x_2,y_2),\\ldots,(x_n,y_n)$ og at vi ønsker å tilpasse disse til en regresjonsmodell på formen\n",
    "\n",
    "$Y_i = a x_i + \\varepsilon_i$,\n",
    "\n",
    "der $\\varepsilon_1,\\varepsilon_2,\\ldots,\\varepsilon_n$ antas uavhengige og identisk normalfordelt med forventningsverdi lik null og varians lik $\\sigma^2$. Vi har dermed at $Y_1,Y_2,\\ldots,Y_n$ er uavhengige stokastiske variabler, og $Y_i\\sim N(ax_i,\\sigma^2)$.\n",
    "\n",
    "Merk at vi altså betrakter de observerte verdiene $y_1,y_2,\\ldots,y_n$ som realisasjoner av stokastiske variabler $Y_1,Y_2,\\ldots,Y_n$, mens verdiene $x_1,x_2,\\ldots,x_n$ betrakter vi som kjente tall.\n",
    "\n",
    "Modellen har to parametre, $a$ og $\\sigma^2$, og vi ønsker å estimere verdien til disse fra de observerte parene $(x_1,y_1),(x_2,y_2),...,(x_n,y_n)$."
   ]
  },
  {
   "cell_type": "markdown",
   "id": "59b8ded6-985b-40a9-b004-2de161bf14cd",
   "metadata": {},
   "source": [
    "### Deloppgave a)"
   ]
  },
  {
   "cell_type": "markdown",
   "id": "fe0957dc-8962-43e7-8d06-c119ada3551e",
   "metadata": {},
   "source": [
    "Finn uttrykk for rimelighetsfunksjonen $L(a,\\sigma^2)$ for situasjonen over.\n",
    "\n",
    "Bruk $L(a,\\sigma^2)$ til å finne uttrykk for log-rimelighetsfunksjonen $\\ell (a,\\sigma^2)$.\n",
    "\n",
    "Finn sannsynlighetsmaksimeringsestimatorene for $a$ og $\\sigma^2$ og vis at disse kan skrives på formen\n",
    "\n",
    "$$\\hat{a}=\\frac{\\sum_{i=1}^n x_iY_i}{\\sum_{i=1}^n x_i^2},\\,\\,\\,\\, \n",
    "\\hat{\\sigma}^2 = \\frac{1}{n}\\sum_{i=1}^n \\left(Y_i-\\hat{a}x_i\\right)^2.$$"
   ]
  },
  {
   "cell_type": "markdown",
   "id": "6a90d7dc-7e76-4520-95e7-ed3c41f44067",
   "metadata": {},
   "source": [
    "### Deloppgave b)"
   ]
  },
  {
   "cell_type": "markdown",
   "id": "1e4e2d31-4922-422f-a4c7-5b2f8254de57",
   "metadata": {},
   "source": [
    "Finn forventningsverdi og varians for estimatoren $\\hat{a}$. Du skal forenkle uttrykkene så mye det lar seg gjøre.\n",
    "\n",
    "Er $\\hat{a}$ forventningsrett? Begrunn svaret."
   ]
  },
  {
   "cell_type": "markdown",
   "id": "4e0314a2-3179-42d0-b9e5-83f0a6a30fd2",
   "metadata": {},
   "source": [
    "#### Her er deloppgave b) slutt."
   ]
  },
  {
   "cell_type": "markdown",
   "id": "e994203c-585a-425a-b0b4-4331953dbfa6",
   "metadata": {},
   "source": [
    "Det kan vises (NB: du trenger ikke vise det) at \n",
    "\n",
    "$\\sum_{i=1}^n \\left(\\frac{Y_i-\\hat{a}x_i}{\\sigma}\\right)^2 \\sim \\chi^2_{n-1}$.\n",
    "\n",
    "Dette resultatet kan du benytte til å besvare spørsmålene under."
   ]
  },
  {
   "cell_type": "markdown",
   "id": "67ad46f6-18c2-4a44-8a17-31ef799a3b0f",
   "metadata": {},
   "source": [
    "### Deloppgave c)"
   ]
  },
  {
   "cell_type": "markdown",
   "id": "e5e3e4e4-214e-489d-8452-f73a1e2b1848",
   "metadata": {},
   "source": [
    "Finn forventningsverdien til $\\hat{\\sigma}^2$. \n",
    "\n",
    "Forklar hvordan du kan se at $\\hat{\\sigma}^2$ er forventningsskjev.\n",
    "\n",
    "Foreslå en \"korrigert\" estimator for $\\sigma^2$ (kall denne $\\tilde\\sigma^2$) som er forventningsrett.\n",
    "\n",
    "Finn variansen til den forventningsrette estimatoren for $\\sigma^2$."
   ]
  },
  {
   "cell_type": "markdown",
   "id": "9a8a689a",
   "metadata": {},
   "source": [
    "## Fasit\n",
    "- Oppgave 2a: Ja.\n",
    "- Oppgave 3a: $L(a,\\sigma^2)=(2\\pi \\sigma^2)^{-n/2}\\exp\\left\\{-\\frac{1}{2}\\sum_{i=1}^n\\frac{(y_i-ax_i)^2}{\\sigma^2}\\right\\}$\n",
    "- Oppgave 3b: $\\hat a$ er forventningsrett. $\\text{Var}[\\hat a]=\\frac{\\sigma^2}{\\sum_{i=1}^n x_i^2}$\n",
    "- Oppgave 3c: $E[\\hat\\sigma^2] = \\frac{n-1}{n}\\sigma^2$, $\\text{Var}[\\tilde{\\sigma}^2])=\\frac{2}{n-1} (\\sigma^2)^2$"
   ]
  }
 ],
 "metadata": {
  "kernelspec": {
   "display_name": "Python 3.11.5 64-bit",
   "language": "python",
   "name": "python3"
  },
  "language_info": {
   "codemirror_mode": {
    "name": "ipython",
    "version": 3
   },
   "file_extension": ".py",
   "mimetype": "text/x-python",
   "name": "python",
   "nbconvert_exporter": "python",
   "pygments_lexer": "ipython3",
   "version": "3.11.5"
  },
  "vscode": {
   "interpreter": {
    "hash": "b0fa6594d8f4cbf19f97940f81e996739fb7646882a419484c72d19e05852a7e"
   }
  }
 },
 "nbformat": 4,
 "nbformat_minor": 5
}
