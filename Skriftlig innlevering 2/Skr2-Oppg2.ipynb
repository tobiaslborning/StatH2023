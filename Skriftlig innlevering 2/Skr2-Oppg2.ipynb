{
 "cells": [
  {
   "cell_type": "markdown",
   "id": "a3d97bd2-c6af-45f2-be97-24b904f77fb9",
   "metadata": {},
   "source": [
    "# Skriftlig innlevering 2, Oppgave 2 (av 4)"
   ]
  },
  {
   "cell_type": "markdown",
   "id": "2ddad6c1-c8d5-492d-8983-7d211cff2c33",
   "metadata": {},
   "source": [
    "## Oppgave 2 *"
   ]
  },
  {
   "cell_type": "markdown",
   "id": "24c14872-a3f7-4c2f-8c0e-9a3e0ea8de77",
   "metadata": {},
   "source": [
    "La $X$ være en stokastisk variabel som beskriver hvor lang tid en komponent har fungert i det den svikter.\n",
    "  Vi kaller da $X$ for <em>levetiden</em> for komponenten.\n",
    "\n",
    "  Levetiden $X$ (målt i antall år) til en bestemt type mekaniske komponenter har vist seg å\n",
    "  følge en fordeling med kumulativ fordelingsfunksjon gitt ved\n",
    "  \\begin{align*}\n",
    "    F_X(x) = 1 - \\exp\\left\\{ -\\frac{x^2}{\\alpha}\\right\\}; x\\geq 0,\n",
    "  \\end{align*}\n",
    "  der $\\alpha$ er en parameter som beskriver kvaliteten til komponentene.\n"
   ]
  },
  {
   "cell_type": "markdown",
   "id": "335c1f6e-2504-49f1-acfd-bd72555a5eb8",
   "metadata": {},
   "source": [
    "### Deloppgave a)"
   ]
  },
  {
   "cell_type": "markdown",
   "id": "89ace492-f173-4bb6-8d2e-471763dccab7",
   "metadata": {},
   "source": [
    "  * Finn sannsynlighetstettheten til $X$, $f_X(x)$. Eventuelt hent denne fra din besvarelse av \n",
    "Skriftlig innlevering 1.\n",
    "  * Finn en formel for $E[X]$ (som funksjon av $\\alpha$). Du kan her uten bevis benytte at \n",
    "  \n",
    "  $$\n",
    "  \\int_{-\\infty}^\\infty e^{-x^2}dx = \\sqrt{\\pi}.\n",
    "  $$"
   ]
  },
  {
   "cell_type": "markdown",
   "id": "d98205e6-76ad-45e6-828c-e4c7d834d32e",
   "metadata": {},
   "source": [
    "### Deloppgave b)"
   ]
  },
  {
   "cell_type": "markdown",
   "id": "8895a334-c9ac-48fd-bae3-2fbc8b0a2f8c",
   "metadata": {},
   "source": [
    "La $U\\sim \\mbox{Unif}[0,1]$.\n",
    "\n",
    "   * Finn en formel for hvordan man fra $U$ kan definere $X$ slik at kumulativ fordeling for $X$\n",
    "      blir som angitt over.\n",
    "   * Skriv en python-funksjon som genererer $n$ realisasjoner av $X$. La funksjonen ha to \n",
    "    input-parametre, antall realisasjoner $n$ og verdien til kvalitetsparameteren $\\alpha$. \n",
    "    Benytt funksjonen til å generere (for eksempel) $n=10\\ 000\\ 000$ realisasjoner av $X$ med \n",
    "    (for eksempel) $\\alpha=1$, og lag et sannsynlighetshistogram for de genererte verdiene. Spesifiser at histogrammet skal ha 100 intervaller, se kode under.\n",
    "    Plott også sannsynlighetstettheten $f_X(x)$ i samme plott som\n",
    "    sannsynlighetshistogrammet. Ser det ut til at du har generert \n",
    "    realisasjoner av $X$ på korrekt måte?\n",
    " "
   ]
  },
  {
   "cell_type": "code",
   "execution_count": 40,
   "id": "add46a92-c802-4a84-8d82-d5d8a29be465",
   "metadata": {},
   "outputs": [
    {
     "data": {
      "image/png": "[encoded data removed]",
      "text/plain": [
       "<Figure size 640x480 with 1 Axes>"
      ]
     },
     "metadata": {},
     "output_type": "display_data"
    }
   ],
   "source": [
    "import numpy as np\n",
    "import matplotlib.pyplot as plt\n",
    "\n",
    "def simX(n,alpha):\n",
    "    u = np.random.uniform(size=n) #array med n elementer.\n",
    "    x = np.sqrt(alpha * -np.log(1-u))  # fyll inn formelen du fant for x\n",
    "    #invers av kumulativ fordeling F_x\n",
    "    return x\n",
    "\n",
    "\n",
    "# Sett antall realisasjoner og verdien til alpha\n",
    "n = 100000\n",
    "alpha = 1\n",
    "\n",
    "# simuler realisasjoner av X\n",
    "x = simX(n,alpha)\n",
    "\n",
    "# Lag sannsynlighetshistogram for de simulerte verdiene\n",
    "plt.hist(x, density=True,bins=100)  #density=True gjør at vi får et sannsynlighetshistogram\n",
    "\n",
    "# Angi navn på aksene\n",
    "plt.xlabel(\"x\")\n",
    "plt.ylabel(\"P\")\n",
    "\n",
    "x_1 = np.linspace(0,5,100)\n",
    "\n",
    "# Regn ut og plott sannsynlighetstettheten til X på samme plott\n",
    "f_x = lambda x : (2/alpha * x * np.exp(-x**2/alpha)) \n",
    "plt.plot(x_1, f_x(x_1), color=\"red\") \n",
    "\n",
    "# Avslutt med å generere alle elementene du har plottet\n",
    "plt.show()"
   ]
  },
  {
   "cell_type": "markdown",
   "id": "2bb6cb6e-31ba-4449-bc31-ff8704193596",
   "metadata": {},
   "source": [
    "#### Her er deloppgave b) slutt."
   ]
  },
  {
   "cell_type": "markdown",
   "id": "92de1ddf-1cc0-469f-a082-f9f9fa93a676",
   "metadata": {},
   "source": [
    "Et instrument inneholder fem komponenter av denne typen, to av disse komponentene har kvalitetsparameter $\\alpha = 1$ og\n",
    "  de andre tre komponentene har $\\alpha=1.2$. De fem komponentene svikter uavhengig av hverandre og instrumentet fungerer\n",
    "  så lenge minst tre av de fem komponentene fungerer. La $Y$ betegne levetiden til instrumentet.\n"
   ]
  },
  {
   "cell_type": "markdown",
   "id": "34614239-15a7-44b7-bfce-16b5d16b9d32",
   "metadata": {},
   "source": [
    "# Deloppgave c)"
   ]
  },
  {
   "cell_type": "markdown",
   "id": "530a5298-8a48-4cda-aedb-4847c9da1b66",
   "metadata": {},
   "source": [
    "Skriv en python-funksjon som genererer $n$ realisasjoner av $Y$. \n",
    "Funksjonen skal ha en input-parameter, nemlig antall\n",
    "      realisasjoner $n$. Benytt funksjonen til å genererere \n",
    "    (for eksempel) $n=10\\ 000$ realisasjoner av $Y$, og lag et\n",
    "      sannsynlighetsistogram for de genererte verdiene."
   ]
  },
  {
   "cell_type": "code",
   "execution_count": 41,
   "id": "1ed46ba0-cb79-4cc8-8616-ed372066f543",
   "metadata": {},
   "outputs": [
    {
     "data": {
      "image/png": "[encoded data removed]",
      "text/plain": [
       "<Figure size 640x480 with 1 Axes>"
      ]
     },
     "metadata": {},
     "output_type": "display_data"
    }
   ],
   "source": [
    "import numpy as np\n",
    "import matplotlib.pyplot as plt\n",
    "\n",
    "# definer funksjonen og benytt denne som angitt i oppgaven\n",
    "\n",
    "def simY(n):\n",
    "    arr = simX(n,1)\n",
    "    arr += (simX(n,1) + simX(n,1))\n",
    "    arr += (simX(n,1.2) + simX(n,1.2))\n",
    "\n",
    "    return arr\n",
    "\n",
    "y = simY(1000000)\n",
    "\n",
    "# Lag sannsynlighetshistogram for de simulerte verdiene\n",
    "plt.hist(x, density=True,bins=100)  #density=True gjør at vi får et sannsynlighetshistogram\n",
    "\n",
    "# Angi navn på aksene\n",
    "plt.xlabel(\"x\")\n",
    "plt.ylabel(\"P\")\n",
    "\n",
    "plt.show()"
   ]
  },
  {
   "cell_type": "markdown",
   "id": "1f1c2f33-4a6b-490e-b45e-5f65653bb470",
   "metadata": {},
   "source": [
    "# Deloppgave d)"
   ]
  },
  {
   "cell_type": "markdown",
   "id": "a424a47d-7402-4c0e-8a03-44d481f06cab",
   "metadata": {},
   "source": [
    "Benytt python-funksjonen du har implementert over til å finne tilnærmede \n",
    "verdier for $E[Y]$, $\\mbox{SD}[Y]$, $P(Y\\geq 2)$ og $P(Y\\geq 2|Y\\geq 1)$."
   ]
  },
  {
   "cell_type": "code",
   "execution_count": 42,
   "id": "87872251-9b0b-4f38-bf75-e397a73cd3cf",
   "metadata": {},
   "outputs": [
    {
     "name": "stdout",
     "output_type": "stream",
     "text": [
      "4.5899968912664395\n",
      "0.9973\n",
      "0.9973\n"
     ]
    }
   ],
   "source": [
    "# Fra nå av må du selv huske på å inkludere pakkene du skal bruke selv\n",
    "\n",
    "n = 10000\n",
    "y = simY(n)\n",
    "\n",
    "E_Y = sum(y)/n\n",
    "\n",
    "P_Yge2 = len(y[y>=2])/n\n",
    "\n",
    "P_Yge2givenYge1 = len(y[y>=2])/len(y[y>=1])\n",
    "\n",
    "print(E_Y)\n",
    "print(P_Yge2)\n",
    "print(P_Yge2givenYge1)"
   ]
  },
  {
   "cell_type": "code",
   "execution_count": null,
   "id": "e077be12",
   "metadata": {},
   "outputs": [],
   "source": []
  }
 ],
 "metadata": {
  "kernelspec": {
   "display_name": "Python 3.10.13 64-bit",
   "language": "python",
   "name": "python3"
  },
  "language_info": {
   "codemirror_mode": {
    "name": "ipython",
    "version": 3
   },
   "file_extension": ".py",
   "mimetype": "text/x-python",
   "name": "python",
   "nbconvert_exporter": "python",
   "pygments_lexer": "ipython3",
   "version": "3.10.13"
  },
  "vscode": {
   "interpreter": {
    "hash": "bd385fe162c5ca0c84973b7dd5c518456272446b2b64e67c2a69f949ca7a1754"
   }
  }
 },
 "nbformat": 4,
 "nbformat_minor": 5
}
