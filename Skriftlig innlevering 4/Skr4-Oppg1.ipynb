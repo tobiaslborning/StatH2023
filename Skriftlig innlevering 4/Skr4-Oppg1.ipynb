{
 "cells": [
  {
   "cell_type": "markdown",
   "id": "604584cb-ec25-43d5-ad53-5ef1af7a6d1c",
   "metadata": {},
   "source": [
    "# Skriftlig innlevering 4, Oppgave 1 (av 4)"
   ]
  },
  {
   "cell_type": "markdown",
   "id": "cbf624a8-08f3-4fc3-a98f-2ef8d400ddd8",
   "metadata": {},
   "source": [
    "## Oppgave 1 *"
   ]
  },
  {
   "cell_type": "markdown",
   "id": "c5195cdb-c395-4c26-88ab-81a8f7ac937a",
   "metadata": {},
   "source": [
    "Ola vil måle tyngdeakselerasjonen $g$ ved å slippe en stein utfor et høyt loddrett stup. Han holder steinen \n",
    "i ro før han slipper den og lar hans gode venn Petter måle hvor lang tid det tar fra han slipper steinen \n",
    "til den treffer bakken. Han antar at steinen er tilstrekkelig tung til at effekten av luftmotstand er \n",
    "neglisjerbar. Han lar $s$ betegne høyden på stupet og lar $t$ betegne tiden steinen bruker på fallet. \n",
    "Fra fysikkundervisningen på videregående skole husker han at sammenhengen mellom $s$, $g$ og $t$ er gitt som\n",
    "\n",
    "\\begin{align*}\n",
    "s = \\frac{1}{2}g t^2.\n",
    "\\end{align*}\n",
    "\n",
    "Dersom han og Petter greier å måle $s$ og $t$ uten feil vil man dermed ha at \n",
    "\n",
    "\\begin{align*}\n",
    "g = \\frac{2s}{t^2}.\n",
    "\\end{align*}\n",
    "\n",
    "Ola og Petter går nå på NTNU og vet at det er urealistisk å anta at de greier å måle $s$ og $t$ uten feil. De velger derfor å betrakte verdiene de måler for disse to størrelsene som realisasjoner av stokastiske variabler, og betegner disse stokastiske variablene med henholdsvis $S$ og $T$. Den tilhørende utregnede tyngdeakselerasjonen blir dermed en realisasjon av den stokastiske variabelen\n",
    "\n",
    "\\begin{align*}\n",
    "G = \\frac{2S}{T^2}.\n",
    "\\end{align*}\n",
    "\n",
    "Ut fra hvordan målingene av $s$ og $t$ gjøres anser de to gode vennene det naturlig å anta at $S$ og $T$ er\n",
    "uavhengige stokastiske variabler. De lar dessuten $\\mu_s$ og $\\mu_t$ betegne de sanne (men ukjente) verdiene for henholdsvis $s$ og $t$, og antar at $E[S]=\\mu_s$ og $E[T]=\\mu_t$. Dessuten innfører de notasjonen \n",
    "$\\sigma_s^2=\\mbox{Var}[S]$ og $\\sigma_t^2=\\mbox{Var}[T]$.\n",
    "\n",
    "Ola og Petter målte $s$ til å være $241.3$ (meter), og $t$ til å være $7.02$ (sekunder)."
   ]
  },
  {
   "cell_type": "markdown",
   "id": "12e422cc-982e-48ff-958c-9e1fc5fde76e",
   "metadata": {},
   "source": [
    "## Deloppgave a)"
   ]
  },
  {
   "cell_type": "markdown",
   "id": "f94bba6e-6268-47da-847d-9bd0837e7f7b",
   "metadata": {},
   "source": [
    "Bruk feilforplantningsformelen til å finne formler for tilnærmede verdier for $\\mu_g=E[G]$ og\n",
    "$\\sigma_g^2=\\mbox{Var}[G]$. Du skal oppgi svarene som funksjon av $\\mu_s$, $\\mu_t$, $\\sigma_s^2$ og $\\sigma_t^2$.\n",
    "\n",
    "Ola og Petter er spesielt interessert i usikkerheten $\\sigma_g^2$. Ut fra måten de gjør målingene av $s$ og $t$ på finner de det rimelig å sette $\\sigma_s=2$ (meter) og $\\sigma_t=1$ (sekund). Dessuten approksimerer de ved å sette $\\mu_s$ lik den målte verdien for $s$ og $\\mu_t$ lik den målte verdien for $t$. Hvilken numeriske verdier får de da for den approksimerte variansen $\\sigma_g^2$ og for tilhørende approksimert standardavvik $\\sigma_g$?"
   ]
  },
  {
   "cell_type": "markdown",
   "id": "3b787d55-90e2-4f1f-b9b2-5f8c6c086264",
   "metadata": {},
   "source": [
    "#### Her er deloppgave a) slutt"
   ]
  },
  {
   "cell_type": "markdown",
   "id": "a8dda3b6-55cb-4865-b5c6-a0aa335cfa9e",
   "metadata": {},
   "source": [
    "Ola og Petter har akkurat lært at stokastisk simulering også kan benyttes for å approksimere $\\mu_g$ og\n",
    "$\\sigma_g$, og ønsker å bruke dette til å finne alternative approksimasjoner av de to størrelsene. \n",
    "\n",
    "Når de skal benytte stokastisk simulering er det ikke tilstrekkelig bare å kjenne forventningsverdier og varianser til $S$ og $T$, man må da også anta noe om hvilke fordelinger $S$ og $T$ har. For enkelthets skyld antar de at både $S$ og $T$ er normalfordelte, de setter $\\mu_s$ og $\\mu_t$ lik tilhørende målte verdier for $s$ og $t$ og bruker de samme verdier for $\\sigma_s$ og $\\sigma_t$ som i deloppgave a)."
   ]
  },
  {
   "cell_type": "markdown",
   "id": "492b6852-0409-4cc4-aea3-d4833e3139da",
   "metadata": {},
   "source": [
    "## Deloppgave b)"
   ]
  },
  {
   "cell_type": "markdown",
   "id": "554311d1-3109-4572-8f7c-441800ae3304",
   "metadata": {},
   "source": [
    "Skriv pythonkode for å simulerer $n=10\\, 000$ realisasjoner av $G$, og bruk disse til å\n",
    "approksimere $\\mu_g$ og $\\sigma_g$. Sammenlign med verdiene du fant i deloppgave a) og diskuter. \n",
    "\n",
    "Tror du $G$ er normalfordelt? For å undersøke dette: Lag et sannsynlighetshistogram av de $n$ genererte verdiene for $G$ og plott deretter (i samme plott som sannsynlighetshistogrammet) sannsynlighetstettheten til en normalfordeling med forventningsverdi og standardavvik lik de approksimerte verdiene for $\\mu_g$ og $\\sigma_g$."
   ]
  },
  {
   "cell_type": "code",
   "execution_count": 16,
   "id": "9cc10bdd-c1eb-4aa3-957c-05231a014085",
   "metadata": {},
   "outputs": [
    {
     "data": {
      "image/png": "[encoded data removed]",
      "text/plain": [
       "<Figure size 640x480 with 1 Axes>"
      ]
     },
     "metadata": {},
     "output_type": "display_data"
    }
   ],
   "source": [
    "# Her kan du skrive pythonkoden din\n",
    "import numpy as np\n",
    "import matplotlib.pyplot as plt\n",
    "import scipy.stats as norm\n",
    "\n",
    "# Generate a random value from the normal distribution\n",
    "n = 10000\n",
    "\n",
    "def simG(n):\n",
    "    g_sim = np.zeros(n)\n",
    "    for i in range(n):\n",
    "        s = np.random.normal(241.3, 2)\n",
    "        t = np.random.normal(7.02,1)\n",
    "        g = (2*s)/(t**2)\n",
    "        g_sim[i] = g\n",
    "    return g_sim\n",
    "\n",
    "g = simG(n)\n",
    "plt.hist(g,density=True,bins=100)\n",
    "\n",
    "x = np.linspace(0,30)\n",
    "f_g = norm.norm.pdf(x, 9.792, np.sqrt(7.791))\n",
    "\n",
    "plt.plot(x,f_g)\n",
    "plt.show()\n",
    "\n",
    "# approksimasjonen er ganske god\n",
    "\n"
   ]
  },
  {
   "cell_type": "markdown",
   "id": "8c6ab5d9-78e1-4af1-8b6d-7f9717cd734b",
   "metadata": {},
   "source": [
    "## Fasit:\n",
    "\n",
    "* Oppgave 1a: $\\sigma_g^2\\approx 7.791$"
   ]
  }
 ],
 "metadata": {
  "kernelspec": {
   "display_name": "Python 3.10.13 64-bit",
   "language": "python",
   "name": "python3"
  },
  "language_info": {
   "codemirror_mode": {
    "name": "ipython",
    "version": 3
   },
   "file_extension": ".py",
   "mimetype": "text/x-python",
   "name": "python",
   "nbconvert_exporter": "python",
   "pygments_lexer": "ipython3",
   "version": "3.10.13"
  },
  "vscode": {
   "interpreter": {
    "hash": "bd385fe162c5ca0c84973b7dd5c518456272446b2b64e67c2a69f949ca7a1754"
   }
  }
 },
 "nbformat": 4,
 "nbformat_minor": 5
}
