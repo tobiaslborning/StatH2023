{
 "cells": [
  {
   "cell_type": "markdown",
   "id": "8b4519b4-6ac0-4107-a59c-1a4022e6aeb3",
   "metadata": {},
   "source": [
    "# Skriftlig innlevering 4, Oppgave 2 (av 4)"
   ]
  },
  {
   "cell_type": "markdown",
   "id": "e9671278-c2c8-4b85-981e-2775b7b9b558",
   "metadata": {},
   "source": [
    "## Oppgave 2 *"
   ]
  },
  {
   "cell_type": "markdown",
   "id": "4b9c3c9a-b961-4746-a77d-0ce172d9e65e",
   "metadata": {},
   "source": [
    "I denne oppgaven skal vi benytte momentgenerende funksjoner til å se på et spesialtilfelle av sentralgrenseteoremet."
   ]
  },
  {
   "cell_type": "markdown",
   "id": "e613a640-0e46-48fb-aa77-e28de7884fb8",
   "metadata": {},
   "source": [
    "Anta at vi har uavhengige og identisk fordelte stokastiske variabler $X_1,X_2,\\ldots,X_n$, det $X_i\\in\\{-1,1\\}$ og\n",
    "\n",
    "\\begin{align*}\n",
    "P(X_i=-1)=\\frac{1}{2} \\ \\ \\mbox{og}\\ \\  P(X_i=1)=\\frac{1}{2}.\n",
    "\\end{align*}\n",
    "\n",
    "Som vanlig lar vi \n",
    "\\begin{align*}\n",
    "\\overline{X} = \\frac{1}{n}\\sum_{i=1}^n X_i\n",
    "\\end{align*}\n",
    "være gjennomsnittet av $X_i$'ene. "
   ]
  },
  {
   "cell_type": "markdown",
   "id": "37545ef4-8bc7-4d09-ace9-467c2dd42b49",
   "metadata": {},
   "source": [
    "## Deloppgave a)"
   ]
  },
  {
   "cell_type": "markdown",
   "id": "81dfe5c3-e2c5-48e7-926b-ac56d897fa49",
   "metadata": {},
   "source": [
    "Utled en formel for momentgenererende funksjon for $X_i$, $M_{X_i}(t)$.\n",
    "\n",
    "Benytt $M_{X_i}(t)$ til å finne $E[X_i]$ og $E[X_i^2]$. Bestem også $\\mbox{Var}[X_i]$."
   ]
  },
  {
   "cell_type": "markdown",
   "id": "df3e2467-1939-412b-9252-60e859de0302",
   "metadata": {},
   "source": [
    "Bruk så regneregler for forventningsverdi og varians til å bestemme $E[\\overline{X}]$ og $\\mbox{Var}[\\overline{X}]$. "
   ]
  },
  {
   "cell_type": "markdown",
   "id": "023490d7-248c-4564-9f86-de9ea468ab2b",
   "metadata": {},
   "source": [
    "#### Her er deloppgave a) slutt."
   ]
  },
  {
   "cell_type": "markdown",
   "id": "19d65c0f-9557-481c-aab9-65faa0bc3d02",
   "metadata": {},
   "source": [
    "La $U$ betegne er standardisert versjon av $\\overline{X}$, dvs la\n",
    "\\begin{align*}\n",
    "U = \\frac{\\overline{X}-E[\\overline{X}]}{\\sqrt{\\mbox{Var}[\\overline{X}]}}.\n",
    "\\end{align*}"
   ]
  },
  {
   "cell_type": "markdown",
   "id": "1aba0c19-5323-44d9-b5f6-f18e7b95046f",
   "metadata": {},
   "source": [
    "## Deloppgave b)"
   ]
  },
  {
   "cell_type": "markdown",
   "id": "49bede39-f062-4ee3-9f99-cb85f7e8446b",
   "metadata": {},
   "source": [
    "Benytt regneregler for momentgenererende funksjoner til å finne et uttrykk for $M_{\\overline{X}}(t)$.\n"
   ]
  },
  {
   "cell_type": "markdown",
   "id": "f15528c5-ac91-4162-a396-f6219f30ec4e",
   "metadata": {},
   "source": [
    "Benytt så uttrykkene du fant for $E[\\overline{X}]$ og $\\mbox{Var}[\\overline{X}]$ i deloppgave a), og \n",
    "igjen regneregler for momentgenererende funksjoner, til å finne et uttrykk for $M_U(t)$. Vis spesielt at $\\ln M_U(t)$ kan skrives på formen\n",
    "\n",
    "\\begin{align*}\n",
    "\\ln M_U(t) = n\\ln\\left(\\frac{\\exp\\left\\{\\frac{t}{\\sqrt{n}}\\right\\}+\\exp\\left\\{-\\frac{t}{\\sqrt{n}}\\right\\}}{2}\\right).\n",
    "\\end{align*}"
   ]
  },
  {
   "cell_type": "markdown",
   "id": "45097115-ae66-4fb6-99f3-dc38c85217c1",
   "metadata": {},
   "source": [
    "#### Her er deloppgave b) slutt."
   ]
  },
  {
   "cell_type": "markdown",
   "id": "63b6ed1b-5752-4de1-bbe3-4e7d38a9f8be",
   "metadata": {},
   "source": [
    "Sentralgrenseteoremet sier som kjent at fordelingen til $U$ vil konvergere mot en standard normalfordeling når \n",
    "$n\\rightarrow\\infty$. Dette betyr at $M_U(t)$ må konvergere mot den momentgenerende funksjonen til en\n",
    "standard normalfordelt variabel $Z\\sim N(0,1)$, som er gitt ved\n",
    "\n",
    "\\begin{align*}\n",
    "M_Z(t) = \\exp\\left\\{\\frac{t^2}{2}\\right\\}.\n",
    "\\end{align*}"
   ]
  },
  {
   "cell_type": "markdown",
   "id": "1c4bc823-c78c-4ba4-b788-0d567c2f1113",
   "metadata": {},
   "source": [
    "## Deloppgave c)"
   ]
  },
  {
   "cell_type": "markdown",
   "id": "c432132a-5bc5-4ce8-89e8-26c68f633edd",
   "metadata": {},
   "source": [
    "For å undersøke om det ser ut til å stemme at $M_U(t)$ konvergerer mot $M_Z(t)$ når \n",
    "$n\\rightarrow\\infty$, lag et plott av begge funksjonene $M_U(t)$ og $M_Z(t)$ (for eksempel) i intervallet $t\\in[0,1]$. Lag plottet for ulike verdier av $n$, for eksempel for $n=4$, $n=10$ og $n=100$. Ser det ut til at sentralgrenseteoremet stemmer i dette tilfellet?"
   ]
  },
  {
   "cell_type": "code",
   "execution_count": 12,
   "id": "d00ef4ac-e657-431d-8cd8-d076794b1fae",
   "metadata": {},
   "outputs": [
    {
     "data": {
      "image/png": "[encoded data removed]",
      "text/plain": [
       "<Figure size 640x480 with 1 Axes>"
      ]
     },
     "metadata": {},
     "output_type": "display_data"
    }
   ],
   "source": [
    "# Her kan du skrive koden for å plotte de to funksjonene.\n",
    "\n",
    "import matplotlib.pyplot as plt\n",
    "import numpy as np\n",
    "\n",
    "n = 4\n",
    "\n",
    "M_U = lambda t : (np.cosh(t/np.sqrt(n)))**n\n",
    "M_Z = lambda t : (np.exp((t**2)/2))\n",
    "\n",
    "t = np.linspace(0,1)\n",
    "\n",
    "plt.plot(t, M_U(t), color = \"green\")\n",
    "plt.plot(t, M_Z(t), color = \"red\")\n",
    "\n",
    "plt.show()\n",
    "\n"
   ]
  },
  {
   "cell_type": "markdown",
   "id": "515728d0-a084-467c-82f8-5678a66fe0fc",
   "metadata": {},
   "source": [
    "Bevis så matematisk at $M_U(t)$ konvergerer mot $M_Z(t)$ ved å vise at \n",
    "\n",
    "\\begin{align*}\n",
    "\\lim_{n\\rightarrow\\infty}\\ln M_U(t) = \\frac{t^2}{2}.\n",
    "\\end{align*}\n",
    "\n",
    "Hint: For å bestemme grensen trenger du å benytte L'Hopitals regel. For å komme frem trenger du faktisk å \n",
    "benytte L'Hoptals regel to ganger."
   ]
  },
  {
   "cell_type": "markdown",
   "id": "47780c08-4fc7-4e36-941e-c732f913d48c",
   "metadata": {},
   "source": [
    "## Fasit:\n",
    "\n",
    "* Oppgave 2a: $E[\\overline{X}]=0$, $\\mbox{Var}[\\overline{X}]=\\frac{1}{n}$"
   ]
  }
 ],
 "metadata": {
  "kernelspec": {
   "display_name": "Python 3.10.13 64-bit",
   "language": "python",
   "name": "python3"
  },
  "language_info": {
   "codemirror_mode": {
    "name": "ipython",
    "version": 3
   },
   "file_extension": ".py",
   "mimetype": "text/x-python",
   "name": "python",
   "nbconvert_exporter": "python",
   "pygments_lexer": "ipython3",
   "version": "3.10.13"
  },
  "vscode": {
   "interpreter": {
    "hash": "bd385fe162c5ca0c84973b7dd5c518456272446b2b64e67c2a69f949ca7a1754"
   }
  }
 },
 "nbformat": 4,
 "nbformat_minor": 5
}
